{
  "nbformat": 4,
  "nbformat_minor": 0,
  "metadata": {
    "colab": {
      "name": "Untitled1.ipynb",
      "provenance": [],
      "authorship_tag": "ABX9TyPhSg9G0spNeJi1/NKNfocB",
      "include_colab_link": true
    },
    "kernelspec": {
      "name": "python3",
      "display_name": "Python 3"
    }
  },
  "cells": [
    {
      "cell_type": "markdown",
      "metadata": {
        "id": "view-in-github",
        "colab_type": "text"
      },
      "source": [
        "<a href=\"https://colab.research.google.com/github/prakashveluru/FeatureEngineering/blob/master/Untitled1.ipynb\" target=\"_parent\"><img src=\"https://colab.research.google.com/assets/colab-badge.svg\" alt=\"Open In Colab\"/></a>"
      ]
    },
    {
      "cell_type": "code",
      "metadata": {
        "id": "EqmHiXNpZfky",
        "colab_type": "code",
        "colab": {}
      },
      "source": [
        "# LIFECYCLE OF DATA SCINECE PROJECT"
      ],
      "execution_count": null,
      "outputs": []
    },
    {
      "cell_type": "code",
      "metadata": {
        "id": "YfrSu0GVaK1d",
        "colab_type": "code",
        "colab": {},
        "cellView": "both"
      },
      "source": [
        "#@LIFE CYCLE OF DATA SCIENCE PROJECT\n",
        "#@ 1. DATA COLLECTION STRATEGY\n",
        "#     a. From company side\n",
        "#     b. 3 party API's\n",
        "#     c. Surveys\n",
        "#@ 2. FEATURE ENGINEERING\n",
        "#     a. Missing values -->survery\n",
        "#           i.  Continous data\n",
        "#           ii. Categroical data\n",
        "#     b. \n",
        "\n"
      ],
      "execution_count": 1,
      "outputs": []
    }
  ]
}